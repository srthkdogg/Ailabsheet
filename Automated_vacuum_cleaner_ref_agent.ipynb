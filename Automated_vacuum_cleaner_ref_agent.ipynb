{
  "nbformat": 4,
  "nbformat_minor": 0,
  "metadata": {
    "colab": {
      "provenance": [],
      "authorship_tag": "ABX9TyOjhyPiVLYyq3M/Dp69Kiyx",
      "include_colab_link": true
    },
    "kernelspec": {
      "name": "python3",
      "display_name": "Python 3"
    },
    "language_info": {
      "name": "python"
    }
  },
  "cells": [
    {
      "cell_type": "markdown",
      "metadata": {
        "id": "view-in-github",
        "colab_type": "text"
      },
      "source": [
        "<a href=\"https://colab.research.google.com/github/srthkdogg/Ailabsheet/blob/main/Automated_vacuum_cleaner_ref_agent.ipynb\" target=\"_parent\"><img src=\"https://colab.research.google.com/assets/colab-badge.svg\" alt=\"Open In Colab\"/></a>"
      ]
    },
    {
      "cell_type": "code",
      "source": [
        "import random\n",
        "\n",
        "class RoomCleanerAgent:\n",
        "    def __init__(self, room_size=(2, 2)):\n",
        "        self.room_size = room_size\n",
        "        # Initialize the room as a grid with random 0 (clean) and 1 (dirty) cells\n",
        "        self.grid = [[random.choice([0, 1]) for _ in range(room_size[1])] for _ in range(room_size[0])]\n",
        "        # Initialize the agent's position randomly\n",
        "        self.current_position = (random.randint(0, room_size[0] - 1), random.randint(0, room_size[1] - 1))\n",
        "\n",
        "    def display_room(self):\n",
        "        # Display current status of the room grid with the agent's position\n",
        "        for i, row in enumerate(self.grid):\n",
        "            for j, cell in enumerate(row):\n",
        "                if (i, j) == self.current_position:\n",
        "                    print(\"A\", end=\" \")  # Represent the agent with 'A'\n",
        "                else:\n",
        "                    print(str(cell), end=\" \")\n",
        "            print()\n",
        "        print()\n",
        "\n",
        "    def is_clean(self):\n",
        "        # Check if all cells in the room are clean\n",
        "        return all(cell == 0 for row in self.grid for cell in row)\n",
        "\n",
        "    def clean_current_position(self):\n",
        "        # Clean the current position\n",
        "        x, y = self.current_position\n",
        "        if self.grid[x][y] == 1:\n",
        "            print(f\"Cleaning position {self.current_position}\")\n",
        "            self.grid[x][y] = 0\n",
        "        else:\n",
        "            print(f\"Position {self.current_position} is already clean.\")\n",
        "\n",
        "    def move(self):\n",
        "        # Move the agent to a random valid neighboring cell\n",
        "        x, y = self.current_position\n",
        "        possible_moves = [\n",
        "            (x - 1, y),  # Up\n",
        "            (x + 1, y),  # Down\n",
        "            (x, y - 1),  # Left\n",
        "            (x, y + 1)   # Right\n",
        "        ]\n",
        "        # Filter out moves that go outside the room boundaries\n",
        "        valid_moves = [(nx, ny) for nx, ny in possible_moves if 0 <= nx < self.room_size[0] and 0 <= ny < self.room_size[1]]\n",
        "        if valid_moves:\n",
        "            self.current_position = random.choice(valid_moves)\n",
        "\n",
        "    def run(self):\n",
        "        # Display initial status of the room\n",
        "        print(\"Initial Room Status:\")\n",
        "        self.display_room()\n",
        "\n",
        "        # Run the cleaning process until the room is clean\n",
        "        steps = 0\n",
        "        while not self.is_clean():\n",
        "            print(f\"Step {steps + 1}:\")\n",
        "            self.clean_current_position()  # Clean the current position\n",
        "            self.display_room()  # Display the room after cleaning\n",
        "            self.move()  # Move to the next position\n",
        "            steps += 1\n",
        "\n",
        "        print(f\"Room cleaned in {steps} steps!\")\n",
        "\n",
        "# Create and run the Room Cleaner Agent\n",
        "agent = RoomCleanerAgent()\n",
        "agent.run()"
      ],
      "metadata": {
        "colab": {
          "base_uri": "https://localhost:8080/"
        },
        "id": "wDpjgZHDq8O3",
        "outputId": "82b033d4-0ee3-41d4-a281-604f8ee8f84c"
      },
      "execution_count": 2,
      "outputs": [
        {
          "output_type": "stream",
          "name": "stdout",
          "text": [
            "Initial Room Status:\n",
            "0 1 \n",
            "0 A \n",
            "\n",
            "Step 1:\n",
            "Position (1, 1) is already clean.\n",
            "0 1 \n",
            "0 A \n",
            "\n",
            "Step 2:\n",
            "Position (1, 0) is already clean.\n",
            "0 1 \n",
            "A 0 \n",
            "\n",
            "Step 3:\n",
            "Position (1, 1) is already clean.\n",
            "0 1 \n",
            "0 A \n",
            "\n",
            "Step 4:\n",
            "Cleaning position (0, 1)\n",
            "0 A \n",
            "0 0 \n",
            "\n",
            "Room cleaned in 4 steps!\n"
          ]
        }
      ]
    }
  ]
}