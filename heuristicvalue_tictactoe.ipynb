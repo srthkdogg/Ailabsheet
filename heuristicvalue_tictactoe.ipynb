{
  "nbformat": 4,
  "nbformat_minor": 0,
  "metadata": {
    "colab": {
      "provenance": [],
      "authorship_tag": "ABX9TyOIZrIx4zKIT3tGmuxJR5AU",
      "include_colab_link": true
    },
    "kernelspec": {
      "name": "python3",
      "display_name": "Python 3"
    },
    "language_info": {
      "name": "python"
    }
  },
  "cells": [
    {
      "cell_type": "markdown",
      "metadata": {
        "id": "view-in-github",
        "colab_type": "text"
      },
      "source": [
        "<a href=\"https://colab.research.google.com/github/srthkdogg/Ailabsheet/blob/main/heuristicvalue_tictactoe.ipynb\" target=\"_parent\"><img src=\"https://colab.research.google.com/assets/colab-badge.svg\" alt=\"Open In Colab\"/></a>"
      ]
    },
    {
      "cell_type": "code",
      "execution_count": 1,
      "metadata": {
        "colab": {
          "base_uri": "https://localhost:8080/"
        },
        "id": "ie27sTRDwreX",
        "outputId": "333406f8-59f1-468f-d99c-b425ff700395"
      },
      "outputs": [
        {
          "output_type": "stream",
          "name": "stdout",
          "text": [
            "Heuristic Value: 3\n"
          ]
        }
      ],
      "source": [
        "\n",
        "def calculate_heuristic(board, player, opponent):\n",
        "    \"\"\"\n",
        "    Calculates the heuristic value of a Tic-Tac-Toe board state.\n",
        "\n",
        "    Args:\n",
        "        board (list of list): 3x3 Tic-Tac-Toe board.\n",
        "        player (str): The symbol for the current player (e.g., 'X').\n",
        "        opponent (str): The symbol for the opponent (e.g., 'O').\n",
        "\n",
        "    Returns:\n",
        "        int: The heuristic value of the board.\n",
        "    \"\"\"\n",
        "    def count_open_lines(board, symbol):\n",
        "        open_lines = 0\n",
        "\n",
        "        # Check rows\n",
        "        for row in board:\n",
        "            if all(cell == symbol or cell == '' for cell in row):\n",
        "                open_lines += 1\n",
        "\n",
        "        # Check columns\n",
        "        for col in range(3):\n",
        "            if all(board[row][col] == symbol or board[row][col] == '' for row in range(3)):\n",
        "                open_lines += 1\n",
        "\n",
        "        # Check diagonals\n",
        "        if all(board[i][i] == symbol or board[i][i] == '' for i in range(3)):\n",
        "            open_lines += 1\n",
        "        if all(board[i][2 - i] == symbol or board[i][2 - i] == '' for i in range(3)):\n",
        "            open_lines += 1\n",
        "\n",
        "        return open_lines\n",
        "\n",
        "    player_lines = count_open_lines(board, player)\n",
        "    opponent_lines = count_open_lines(board, opponent)\n",
        "\n",
        "    return player_lines - opponent_lines\n",
        "\n",
        "\n",
        "# Example Usage\n",
        "board = [\n",
        "    ['X', '', ''],\n",
        "    ['', '', ''],\n",
        "    ['', '', '']\n",
        "]\n",
        "\n",
        "player = 'X'\n",
        "opponent = 'O'\n",
        "\n",
        "heuristic_value = calculate_heuristic(board, player, opponent)\n",
        "print(\"Heuristic Value:\", heuristic_value)\n",
        "\n",
        ""
      ]
    }
  ]
}