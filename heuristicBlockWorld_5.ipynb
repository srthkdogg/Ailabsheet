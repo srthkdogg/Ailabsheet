{
  "nbformat": 4,
  "nbformat_minor": 0,
  "metadata": {
    "colab": {
      "provenance": [],
      "authorship_tag": "ABX9TyM8JrPV9kD1Q0VgL1k7TF00",
      "include_colab_link": true
    },
    "kernelspec": {
      "name": "python3",
      "display_name": "Python 3"
    },
    "language_info": {
      "name": "python"
    }
  },
  "cells": [
    {
      "cell_type": "markdown",
      "metadata": {
        "id": "view-in-github",
        "colab_type": "text"
      },
      "source": [
        "<a href=\"https://colab.research.google.com/github/srthkdogg/Ailabsheet/blob/main/heuristicBlockWorld_5.ipynb\" target=\"_parent\"><img src=\"https://colab.research.google.com/assets/colab-badge.svg\" alt=\"Open In Colab\"/></a>"
      ]
    },
    {
      "cell_type": "code",
      "execution_count": 5,
      "metadata": {
        "colab": {
          "base_uri": "https://localhost:8080/"
        },
        "id": "ie27sTRDwreX",
        "outputId": "671878c3-ad94-41b1-83e7-9f954767743e"
      },
      "outputs": [
        {
          "output_type": "stream",
          "name": "stdout",
          "text": [
            "Heuristic Value: -4\n"
          ]
        }
      ],
      "source": [
        "\n",
        "def calculate_heuristic(start_state, goal_state):\n",
        "    \"\"\"\n",
        "    Calculates the heuristic value of the start state compared to the goal state.\n",
        "\n",
        "    Args:\n",
        "        start_state (list): A list of stacks representing the current state.\n",
        "        goal_state (list): A list of stacks representing the goal state.\n",
        "\n",
        "    Returns:\n",
        "        int: The heuristic value of the state.\n",
        "    \"\"\"\n",
        "    heuristic = 0\n",
        "    for stack_index, goal_stack in enumerate(goal_state):\n",
        "        for i, block in enumerate(goal_stack):\n",
        "            if stack_index < len(start_state) and i < len(start_state[stack_index]):\n",
        "                if start_state[stack_index][i] == block:\n",
        "                    heuristic += 1\n",
        "                else:\n",
        "                    heuristic -= 1\n",
        "            else:\n",
        "                heuristic -= 1\n",
        "    return heuristic\n",
        "\n",
        "\n",
        "# Example usage\n",
        "start_state = [\n",
        "    ['A'],  # Stack 1\n",
        "    ['D'],  # Stack 2\n",
        "    ['C'],  # Stack 3\n",
        "    ['B']   # Stack 4\n",
        "]\n",
        "\n",
        "goal_state = [\n",
        "    ['D'],  # Stack 1\n",
        "    ['C'],  # Stack 2\n",
        "    ['B'],  # Stack 3\n",
        "    ['A']   # Stack 4\n",
        "]\n",
        "\n",
        "heuristic_value = calculate_heuristic(start_state, goal_state)\n",
        "print(\"Heuristic Value:\", heuristic_value)\n",
        "\n",
        "\n",
        "\n"
      ]
    }
  ]
}