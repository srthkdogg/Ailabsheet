{
  "nbformat": 4,
  "nbformat_minor": 0,
  "metadata": {
    "colab": {
      "provenance": [],
      "authorship_tag": "ABX9TyPoIPsvHl6+9NoBZoP5bPeP",
      "include_colab_link": true
    },
    "kernelspec": {
      "name": "python3",
      "display_name": "Python 3"
    },
    "language_info": {
      "name": "python"
    }
  },
  "cells": [
    {
      "cell_type": "markdown",
      "metadata": {
        "id": "view-in-github",
        "colab_type": "text"
      },
      "source": [
        "<a href=\"https://colab.research.google.com/github/srthkdogg/Ailabsheet/blob/main/heuristicBlockWorld_5.ipynb\" target=\"_parent\"><img src=\"https://colab.research.google.com/assets/colab-badge.svg\" alt=\"Open In Colab\"/></a>"
      ]
    },
    {
      "cell_type": "code",
      "execution_count": null,
      "metadata": {
        "colab": {
          "base_uri": "https://localhost:8080/",
          "height": 216
        },
        "id": "ie27sTRDwreX",
        "outputId": "188bb677-2bbe-4c6d-b993-e416bcb77868"
      },
      "outputs": [
        {
          "output_type": "error",
          "ename": "NameError",
          "evalue": "name 'true' is not defined",
          "traceback": [
            "\u001b[0;31m---------------------------------------------------------------------------\u001b[0m",
            "\u001b[0;31mNameError\u001b[0m                                 Traceback (most recent call last)",
            "\u001b[0;32m<ipython-input-2-cb4e6b283fdc>\u001b[0m in \u001b[0;36m<cell line: 0>\u001b[0;34m()\u001b[0m\n\u001b[1;32m      5\u001b[0m     \"colab\": {\n\u001b[1;32m      6\u001b[0m       \u001b[0;34m\"provenance\"\u001b[0m\u001b[0;34m:\u001b[0m \u001b[0;34m[\u001b[0m\u001b[0;34m]\u001b[0m\u001b[0;34m,\u001b[0m\u001b[0;34m\u001b[0m\u001b[0;34m\u001b[0m\u001b[0m\n\u001b[0;32m----> 7\u001b[0;31m       \u001b[0;34m\"toc_visible\"\u001b[0m\u001b[0;34m:\u001b[0m \u001b[0mtrue\u001b[0m\u001b[0;34m,\u001b[0m\u001b[0;34m\u001b[0m\u001b[0;34m\u001b[0m\u001b[0m\n\u001b[0m\u001b[1;32m      8\u001b[0m       \u001b[0;34m\"authorship_tag\"\u001b[0m\u001b[0;34m:\u001b[0m \u001b[0;34m\"ABX9TyPkAJ/GU1nG01bgySdak+sR\"\u001b[0m\u001b[0;34m,\u001b[0m\u001b[0;34m\u001b[0m\u001b[0;34m\u001b[0m\u001b[0m\n\u001b[1;32m      9\u001b[0m       \u001b[0;34m\"include_colab_link\"\u001b[0m\u001b[0;34m:\u001b[0m \u001b[0mtrue\u001b[0m\u001b[0;34m\u001b[0m\u001b[0;34m\u001b[0m\u001b[0m\n",
            "\u001b[0;31mNameError\u001b[0m: name 'true' is not defined"
          ]
        }
      ],
      "source": [
        "{\n",
        "  \"nbformat\": 4,\n",
        "  \"nbformat_minor\": 0,\n",
        "  \"metadata\": {\n",
        "    \"colab\": {\n",
        "      \"provenance\": [],\n",
        "      \"toc_visible\": true,\n",
        "      \"authorship_tag\": \"ABX9TyPkAJ/GU1nG01bgySdak+sR\",\n",
        "      \"include_colab_link\": true\n",
        "    },\n",
        "    \"kernelspec\": {\n",
        "      \"name\": \"python3\",\n",
        "      \"display_name\": \"Python 3\"\n",
        "    },\n",
        "    \"language_info\": {\n",
        "      \"name\": \"python\"\n",
        "    }\n",
        "  },\n",
        "  \"cells\": [\n",
        "    {\n",
        "      \"cell_type\": \"markdown\",\n",
        "      \"metadata\": {\n",
        "        \"id\": \"view-in-github\",\n",
        "        \"colab_type\": \"text\"\n",
        "      },\n",
        "      \"source\": [\n",
        "        \"<a href=\\\"https://colab.research.google.com/github/Ansaaad/AI/blob/main/5_Heuristic_block_world.ipynb\\\" target=\\\"_parent\\\"><img src=\\\"https://colab.research.google.com/assets/colab-badge.svg\\\" alt=\\\"Open In Colab\\\"/></a>\"\n",
        "      ]\n",
        "    },\n",
        "    {\n",
        "      \"cell_type\": \"code\",\n",
        "      \"execution_count\": 1,\n",
        "      \"metadata\": {\n",
        "        \"colab\": {\n",
        "          \"base_uri\": \"https://localhost:8080/\"\n",
        "        },\n",
        "        \"id\": \"9Jfy-vSVnCIP\",\n",
        "        \"outputId\": \"595b2c4b-f782-4ad5-c39c-6ee3c9a5421f\"\n",
        "      },\n",
        "      \"outputs\": [\n",
        "        {\n",
        "          \"output_type\": \"stream\",\n",
        "          \"name\": \"stdout\",\n",
        "          \"text\": [\n",
        "            \"Heuristic Value: -4\\n\"\n",
        "          ]\n",
        "        }\n",
        "      ],\n",
        "      \"source\": [\n",
        "        \"def calculate_heuristic(start_state, goal_state):\\n\",\n",
        "        \"    \\\"\\\"\\\"\\n\",\n",
        "        \"    Calculates the heuristic value of the start state compared to the goal state.\\n\",\n",
        "        \"\\n\",\n",
        "        \"    Args:\\n\",\n",
        "        \"        start_state (list): A list of stacks representing the current state.\\n\",\n",
        "        \"        goal_state (list): A list of stacks representing the goal state.\\n\",\n",
        "        \"\\n\",\n",
        "        \"    Returns:\\n\",\n",
        "        \"        int: The heuristic value of the state.\\n\",\n",
        "        \"    \\\"\\\"\\\"\\n\",\n",
        "        \"    heuristic = 0\\n\",\n",
        "        \"    for stack_index, goal_stack in enumerate(goal_state):\\n\",\n",
        "        \"        for i, block in enumerate(goal_stack):\\n\",\n",
        "        \"            if stack_index < len(start_state) and i < len(start_state[stack_index]):\\n\",\n",
        "        \"                if start_state[stack_index][i] == block:\\n\",\n",
        "        \"                    heuristic += 1\\n\",\n",
        "        \"                else:\\n\",\n",
        "        \"                    heuristic -= 1\\n\",\n",
        "        \"            else:\\n\",\n",
        "        \"                heuristic -= 1\\n\",\n",
        "        \"    return heuristic\\n\",\n",
        "        \"\\n\",\n",
        "        \"\\n\",\n",
        "        \"# Example usage\\n\",\n",
        "        \"start_state = [\\n\",\n",
        "        \"    ['A'],  # Stack 1\\n\",\n",
        "        \"    ['D'],  # Stack 2\\n\",\n",
        "        \"    ['C'],  # Stack 3\\n\",\n",
        "        \"    ['B']   # Stack 4\\n\",\n",
        "        \"]\\n\",\n",
        "        \"\\n\",\n",
        "        \"goal_state = [\\n\",\n",
        "        \"    ['D'],  # Stack 1\\n\",\n",
        "        \"    ['C'],  # Stack 2\\n\",\n",
        "        \"    ['B'],  # Stack 3\\n\",\n",
        "        \"    ['A']   # Stack 4\\n\",\n",
        "        \"]\\n\",\n",
        "        \"\\n\",\n",
        "        \"heuristic_value = calculate_heuristic(start_state, goal_state)\\n\",\n",
        "        \"print(\\\"Heuristic Value:\\\", heuristic_value)\\n\",\n",
        "        \"\\n\"\n",
        "      ]\n",
        "    }\n",
        "  ]\n",
        "}"
      ]
    }
  ]
}